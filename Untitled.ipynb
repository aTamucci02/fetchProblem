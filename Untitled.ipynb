{
 "cells": [
  {
   "cell_type": "code",
   "execution_count": 25,
   "id": "66a1e45e",
   "metadata": {},
   "outputs": [
    {
     "data": {
      "text/plain": [
       "{'DANNON': '9800', 'UNILEVER': '5300', 'MILLER COORS': '10000'}"
      ]
     },
     "execution_count": 25,
     "metadata": {},
     "output_type": "execute_result"
    }
   ],
   "source": [
    "import csv\n",
    "def spendPoints(toSpend,fileName): \n",
    "    with open(fileName, 'r') as file:\n",
    "        transList=[]\n",
    "        csvreader = csv.reader(file)\n",
    "        for row in csvreader:\n",
    "            transList.append(row)\n",
    "    del transList[0]\n",
    "    points = 0\n",
    "   \n",
    "\n",
    "\n",
    "    for transaction in transList:\n",
    "        points+=int(transaction[1])\n",
    "    if points<toSpend:\n",
    "        return \"ERROR: NOT ENOUGH POINTS TO SPEND\"\n",
    "    \n",
    "    mergeSort(transList)\n",
    "    i=0 \n",
    "    while toSpend>0:\n",
    "        int(transList[i][1])\n",
    "        if int(transList[i][1])>toSpend:\n",
    "            transList[i][1]=f\"{int(transList[i][1])-toSpend}\"\n",
    "            toSpend=0\n",
    "            break\n",
    "        \n",
    "        toSpend-=int(transList[i][1])\n",
    "        transList[i][1]=\"0\";\n",
    "        i+=1\n",
    "        \n",
    "    \n",
    "    payerList={}\n",
    "    for transaction in transList:\n",
    "        if(not(transaction[0]in payerList)):\n",
    "            payerList.update({transaction[0]:transaction[1]})\n",
    "        else:\n",
    "            points = int(payerList.get(transaction[0]))\n",
    "            points += int(transaction[1])\n",
    "            payerList.update({transaction[0]:f\"{points}\"})\n",
    "            #print(payerList)  \n",
    "        \n",
    "            \n",
    "    return payerList\n",
    "\n",
    "def mergeSort(transList):\n",
    "    if len(transList) > 1:\n",
    "        mid = len(transList)//2\n",
    "        left = transList[:mid]\n",
    "        right = transList[mid:]\n",
    "        mergeSort(left)\n",
    "        mergeSort(right) \n",
    "        i = 0 \n",
    "        j = 0 \n",
    "        k = 0\n",
    "        while i < len(left) and j < len(right):\n",
    "            if left[i][2] <= right[j][2]:\n",
    "                transList[k] = left[i]\n",
    "                i += 1\n",
    "            else:\n",
    "                transList[k] = right[j]\n",
    "                j += 1\n",
    "            k += 1\n",
    "        while i < len(left):\n",
    "            transList[k] = left[i]\n",
    "            i += 1\n",
    "            k += 1\n",
    "        while j < len(right):\n",
    "            transList[k] = right[j]\n",
    "            j += 1\n",
    "            k += 1\n",
    "            \n",
    "    return transList\n",
    "\n",
    "spendPoints(5000,\"transactions.csv\")\n",
    "\n",
    "    \n",
    "#Spend 5000\n",
    "#Dannon 300\n",
    "#Dannon -200\n",
    "#Uniliver 200\n",
    "#Miller 10000\n",
    "#Dannon 1000\n",
    "\n",
    "#Dannon 1000\n",
    "#Miller 4700\n",
    "#Unilever 0\n"
   ]
  },
  {
   "cell_type": "code",
   "execution_count": null,
   "id": "4df33968",
   "metadata": {},
   "outputs": [],
   "source": []
  },
  {
   "cell_type": "code",
   "execution_count": null,
   "id": "04163412",
   "metadata": {},
   "outputs": [],
   "source": []
  },
  {
   "cell_type": "code",
   "execution_count": null,
   "id": "f10a28b4",
   "metadata": {},
   "outputs": [],
   "source": []
  }
 ],
 "metadata": {
  "kernelspec": {
   "display_name": "Python 3 (ipykernel)",
   "language": "python",
   "name": "python3"
  },
  "language_info": {
   "codemirror_mode": {
    "name": "ipython",
    "version": 3
   },
   "file_extension": ".py",
   "mimetype": "text/x-python",
   "name": "python",
   "nbconvert_exporter": "python",
   "pygments_lexer": "ipython3",
   "version": "3.9.13"
  }
 },
 "nbformat": 4,
 "nbformat_minor": 5
}
